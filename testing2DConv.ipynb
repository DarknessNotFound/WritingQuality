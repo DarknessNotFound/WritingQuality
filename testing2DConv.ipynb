{
 "cells": [
  {
   "cell_type": "code",
   "execution_count": 44,
   "metadata": {},
   "outputs": [],
   "source": [
    "import tensorflow as tf\n",
    "from tensorflow.keras import layers, models\n",
    "import numpy as np"
   ]
  },
  {
   "cell_type": "code",
   "execution_count": 45,
   "metadata": {},
   "outputs": [],
   "source": [
    "x_train = np.array([\n",
    "    [[0, 1, 2], [2, 3, 0], [0, 1, 0]],\n",
    "    [[1, 1, 2], [2, 3, 0], [0, 1, 0]],\n",
    "    [[1, 1, 1], [2, 2, 2], [0, 0, 2]],\n",
    "    [[1, 1, 1], [2, 3, 2], [0, 0, 2]],\n",
    "    [[2, 0, 3], [2, 1, 2], [2, 2, 2]],\n",
    "    [[2, 0, 3], [2, 1, 2], [2, 0, 2]],\n",
    "    [[1, 1, 1], [2, 3, 2], [0, 0, 2]],\n",
    "    [[2, 0, 3], [2, 1, 2], [2, 2, 2]],\n",
    "    [[2, 0, 3], [2, 1, 2], [2, 0, 2]],\n",
    "    [[2, 0, 3], [2, 1, 2], [2, 0, 2]],\n",
    "])\n",
    "\n",
    "y_train = np.array([2, 3, 1, 1, 2, 3, 1, 2, 3, 3])"
   ]
  },
  {
   "cell_type": "code",
   "execution_count": 46,
   "metadata": {},
   "outputs": [
    {
     "name": "stdout",
     "output_type": "stream",
     "text": [
      "(10, 3, 3)\n"
     ]
    }
   ],
   "source": [
    "input_shape = (len(x_train), len(x_train[0]), len(x_train[0][0]))\n",
    "print(input_shape)\n",
    "model = models.Sequential()\n",
    "#model.add(layers.InputLayer(input_shape=(8, 7200), dtype=np.float64))\n",
    "model.add(layers.Conv1D(filters=2, kernel_size = (2,), input_shape=input_shape[1:], activation='relu'))\n",
    "model.add(layers.Flatten())\n",
    "model.add(layers.Dense(units=128,activation='relu'))\n",
    "model.add(layers.Dense(units=128,activation='relu'))\n",
    "model.add(layers.Dense(units=12,activation='relu'))\n",
    "model.add(layers.Dense(units=1,activation='relu'))"
   ]
  },
  {
   "cell_type": "code",
   "execution_count": 47,
   "metadata": {},
   "outputs": [
    {
     "name": "stdout",
     "output_type": "stream",
     "text": [
      "Model: \"sequential_8\"\n",
      "_________________________________________________________________\n",
      " Layer (type)                Output Shape              Param #   \n",
      "=================================================================\n",
      " conv1d_8 (Conv1D)           (None, 2, 2)              14        \n",
      "                                                                 \n",
      " flatten_8 (Flatten)         (None, 4)                 0         \n",
      "                                                                 \n",
      " dense_27 (Dense)            (None, 128)               640       \n",
      "                                                                 \n",
      " dense_28 (Dense)            (None, 128)               16512     \n",
      "                                                                 \n",
      " dense_29 (Dense)            (None, 12)                1548      \n",
      "                                                                 \n",
      " dense_30 (Dense)            (None, 1)                 13        \n",
      "                                                                 \n",
      "=================================================================\n",
      "Total params: 18727 (73.15 KB)\n",
      "Trainable params: 18727 (73.15 KB)\n",
      "Non-trainable params: 0 (0.00 Byte)\n",
      "_________________________________________________________________\n"
     ]
    }
   ],
   "source": [
    "model.summary()"
   ]
  },
  {
   "cell_type": "code",
   "execution_count": 48,
   "metadata": {},
   "outputs": [],
   "source": [
    "model.compile(optimizer='adam', \n",
    "              loss=tf.keras.losses.CategoricalCrossentropy(from_logits=True), \n",
    "              metrics=['mean_squared_error'])"
   ]
  },
  {
   "cell_type": "code",
   "execution_count": 49,
   "metadata": {},
   "outputs": [
    {
     "name": "stdout",
     "output_type": "stream",
     "text": [
      "Epoch 1/10\n",
      "1/1 [==============================] - ETA: 0s - loss: 0.0000e+00 - mean_squared_error: 4.1250"
     ]
    },
    {
     "name": "stderr",
     "output_type": "stream",
     "text": [
      "/opt/homebrew/lib/python3.10/site-packages/tensorflow/python/util/dispatch.py:1176: SyntaxWarning: In loss categorical_crossentropy, expected y_pred.shape to be (batch_size, num_classes) with num_classes > 1. Received: y_pred.shape=(None, 1). Consider using 'binary_crossentropy' if you only have 2 classes.\n",
      "  return dispatch_target(*args, **kwargs)\n"
     ]
    },
    {
     "name": "stdout",
     "output_type": "stream",
     "text": [
      "1/1 [==============================] - 0s 269ms/step - loss: 0.0000e+00 - mean_squared_error: 4.1250 - val_loss: 0.0000e+00 - val_mean_squared_error: 9.0000\n",
      "Epoch 2/10\n",
      "1/1 [==============================] - 0s 13ms/step - loss: 0.0000e+00 - mean_squared_error: 4.1250 - val_loss: 0.0000e+00 - val_mean_squared_error: 9.0000\n",
      "Epoch 3/10\n",
      "1/1 [==============================] - 0s 13ms/step - loss: 0.0000e+00 - mean_squared_error: 4.1250 - val_loss: 0.0000e+00 - val_mean_squared_error: 9.0000\n",
      "Epoch 4/10\n",
      "1/1 [==============================] - 0s 13ms/step - loss: 0.0000e+00 - mean_squared_error: 4.1250 - val_loss: 0.0000e+00 - val_mean_squared_error: 9.0000\n",
      "Epoch 5/10\n",
      "1/1 [==============================] - 0s 13ms/step - loss: 0.0000e+00 - mean_squared_error: 4.1250 - val_loss: 0.0000e+00 - val_mean_squared_error: 9.0000\n",
      "Epoch 6/10\n",
      "1/1 [==============================] - 0s 13ms/step - loss: 0.0000e+00 - mean_squared_error: 4.1250 - val_loss: 0.0000e+00 - val_mean_squared_error: 9.0000\n",
      "Epoch 7/10\n",
      "1/1 [==============================] - 0s 14ms/step - loss: 0.0000e+00 - mean_squared_error: 4.1250 - val_loss: 0.0000e+00 - val_mean_squared_error: 9.0000\n",
      "Epoch 8/10\n",
      "1/1 [==============================] - 0s 13ms/step - loss: 0.0000e+00 - mean_squared_error: 4.1250 - val_loss: 0.0000e+00 - val_mean_squared_error: 9.0000\n",
      "Epoch 9/10\n",
      "1/1 [==============================] - 0s 13ms/step - loss: 0.0000e+00 - mean_squared_error: 4.1250 - val_loss: 0.0000e+00 - val_mean_squared_error: 9.0000\n",
      "Epoch 10/10\n",
      "1/1 [==============================] - 0s 13ms/step - loss: 0.0000e+00 - mean_squared_error: 4.1250 - val_loss: 0.0000e+00 - val_mean_squared_error: 9.0000\n"
     ]
    },
    {
     "data": {
      "text/plain": [
       "<keras.src.callbacks.History at 0x2ab4ef220>"
      ]
     },
     "execution_count": 49,
     "metadata": {},
     "output_type": "execute_result"
    }
   ],
   "source": [
    "model.fit(x_train, y_train, epochs=10, validation_split=0.2)"
   ]
  }
 ],
 "metadata": {
  "kernelspec": {
   "display_name": "Python 3",
   "language": "python",
   "name": "python3"
  },
  "language_info": {
   "codemirror_mode": {
    "name": "ipython",
    "version": 3
   },
   "file_extension": ".py",
   "mimetype": "text/x-python",
   "name": "python",
   "nbconvert_exporter": "python",
   "pygments_lexer": "ipython3",
   "version": "3.10.8"
  }
 },
 "nbformat": 4,
 "nbformat_minor": 2
}
